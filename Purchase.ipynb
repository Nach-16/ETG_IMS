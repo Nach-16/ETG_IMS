{
  "nbformat": 4,
  "nbformat_minor": 0,
  "metadata": {
    "colab": {
      "name": "Purchase.ipynb",
      "provenance": []
    },
    "kernelspec": {
      "name": "python3",
      "display_name": "Python 3"
    },
    "language_info": {
      "name": "python"
    }
  },
  "cells": [
    {
      "cell_type": "markdown",
      "metadata": {
        "id": "FG_P_E5KRTuf"
      },
      "source": [
        "#Purchasing"
      ]
    },
    {
      "cell_type": "code",
      "metadata": {
        "id": "GuDfe4jyRXEg"
      },
      "source": [
        "import json\n",
        "\n",
        "a= open(\"record.json\",\"r\")\n",
        "r=a.read()\n",
        "a.close()\n",
        "\n",
        "record=json.loads(r)\n"
      ],
      "execution_count": null,
      "outputs": []
    },
    {
      "cell_type": "markdown",
      "metadata": {
        "id": "2wWZ-BRMSQsc"
      },
      "source": [
        "#Asking Customer"
      ]
    },
    {
      "cell_type": "code",
      "metadata": {
        "colab": {
          "base_uri": "https://localhost:8080/"
        },
        "id": "6D8FKysTSYG6",
        "outputId": "7d689bac-4ac4-4b5b-f318-5601ce320ea3"
      },
      "source": [
        "user_id=str(input(\"Enter The Product ID: \"))\n",
        "user_quant=int(input(\"Enter The Quantity: \"))\n",
        "\n",
        "conf= str(input(\"Proceed to checkout yes/no: \"))\n",
        "if(conf=='yes'):\n",
        "   print(\"**********************\")\n",
        "   print(\"Your Product: \" , record[user_id][\"Product\"])\n",
        "   print(\"Price: \" , record[user_id]['Price'])\n",
        "   print(\"Quantity: \", user_quant)\n",
        "   print(\"**********************\")\n",
        "   print(\"Your Total Bill is: \" , record[user_id]['Price']* user_quant)\n",
        "   import time\n",
        "   print(time.ctime())\n",
        "   print(\"**********************\")\n",
        "   print(\"Thankyou for Shopping!!!!\")\n",
        "else:\n",
        "    print(\"Please Continue!\")\n",
        "\n",
        "\n",
        "record[user_id]['Quantity'] = record[user_id]['Quantity'] - user_quant\n",
        "\n",
        "\n",
        "\n"
      ],
      "execution_count": 241,
      "outputs": [
        {
          "output_type": "stream",
          "name": "stdout",
          "text": [
            "Enter The Product ID: 1028\n",
            "Enter The Quantity: 2\n",
            "Proceed to checkout yes/no: yes\n",
            "**********************\n",
            "Your Product:  Fortune oil\n",
            "Price:  699\n",
            "Quantity:  2\n",
            "**********************\n",
            "Your Total Bill is:  1398\n",
            "Mon Sep  6 15:30:40 2021\n",
            "**********************\n",
            "Thankyou for Shopping!!!!\n"
          ]
        }
      ]
    },
    {
      "cell_type": "markdown",
      "metadata": {
        "id": "xg2Ob9bYZkp5"
      },
      "source": [
        "#Updating Inventory"
      ]
    },
    {
      "cell_type": "code",
      "metadata": {
        "id": "Gohgub-3ZI97"
      },
      "source": [
        "js=json.dumps(record)\n",
        "\n",
        "var=open(\"record.json\",\"w\")\n",
        "fd=var.write(js)\n",
        "var.close()"
      ],
      "execution_count": 233,
      "outputs": []
    },
    {
      "cell_type": "markdown",
      "metadata": {
        "id": "KeaAsqwIbCM4"
      },
      "source": [
        "#SALES"
      ]
    },
    {
      "cell_type": "code",
      "metadata": {
        "id": "cGoFam3AbE1_"
      },
      "source": [
        "t=time.ctime()\n",
        "sales ={1:{\"ID\": user_id , \"Quant\": user_quant , \"Amount\": record[user_id]['Price']*user_quant,\"Time\": t}}\n"
      ],
      "execution_count": 209,
      "outputs": []
    },
    {
      "cell_type": "code",
      "metadata": {
        "id": "dcmR5S5xnHH0"
      },
      "source": [
        "f={(len(sales)+1):{\"ID\": user_id , \"Quant\": user_quant , \"Amount\": record[user_id]['Price']*user_quant,\"Time\": t}}"
      ],
      "execution_count": 210,
      "outputs": []
    },
    {
      "cell_type": "code",
      "metadata": {
        "id": "frB4kPtNpqUn"
      },
      "source": [
        "sales[(len(sales)+1)]={\"ID\": user_id , \"Quant\": user_quant , \"Amount\": record[user_id]['Price']*user_quant,\"Time\": t}"
      ],
      "execution_count": 244,
      "outputs": []
    },
    {
      "cell_type": "code",
      "metadata": {
        "colab": {
          "base_uri": "https://localhost:8080/"
        },
        "id": "KBdiMZ4gvRO6",
        "outputId": "399af802-fedf-42df-8ca8-8d5ccceb2db3"
      },
      "source": [
        "sales"
      ],
      "execution_count": 253,
      "outputs": [
        {
          "output_type": "execute_result",
          "data": {
            "text/plain": [
              "{1: {'Amount': 295,\n",
              "  'ID': '1014',\n",
              "  'Quant': 5,\n",
              "  'Time': 'Mon Sep  6 15:25:10 2021'},\n",
              " 2: {'Amount': 295,\n",
              "  'ID': '1014',\n",
              "  'Quant': 5,\n",
              "  'Time': 'Mon Sep  6 15:25:10 2021'},\n",
              " 3: {'Amount': 175,\n",
              "  'ID': '1015',\n",
              "  'Quant': 5,\n",
              "  'Time': 'Mon Sep  6 15:25:10 2021'},\n",
              " 4: {'Amount': 200,\n",
              "  'ID': '1018',\n",
              "  'Quant': 10,\n",
              "  'Time': 'Mon Sep  6 15:25:10 2021'},\n",
              " 5: {'Amount': 2440,\n",
              "  'ID': '1020',\n",
              "  'Quant': 5,\n",
              "  'Time': 'Mon Sep  6 15:25:10 2021'},\n",
              " 6: {'Amount': 995,\n",
              "  'ID': '1023',\n",
              "  'Quant': 5,\n",
              "  'Time': 'Mon Sep  6 15:25:10 2021'},\n",
              " 7: {'Amount': 360,\n",
              "  'ID': '1024',\n",
              "  'Quant': 12,\n",
              "  'Time': 'Mon Sep  6 15:25:10 2021'},\n",
              " 8: {'Amount': 7500,\n",
              "  'ID': '1007',\n",
              "  'Quant': 5,\n",
              "  'Time': 'Mon Sep  6 15:25:10 2021'},\n",
              " 9: {'Amount': 1592,\n",
              "  'ID': '1016',\n",
              "  'Quant': 8,\n",
              "  'Time': 'Mon Sep  6 15:25:10 2021'},\n",
              " 10: {'Amount': 80,\n",
              "  'ID': '1030',\n",
              "  'Quant': 2,\n",
              "  'Time': 'Mon Sep  6 15:25:10 2021'},\n",
              " 11: {'Amount': 120,\n",
              "  'ID': '1012',\n",
              "  'Quant': 6,\n",
              "  'Time': 'Mon Sep  6 15:25:10 2021'},\n",
              " 12: {'Amount': 1398,\n",
              "  'ID': '1028',\n",
              "  'Quant': 2,\n",
              "  'Time': 'Mon Sep  6 15:25:10 2021'},\n",
              " 13: {'Amount': 1398,\n",
              "  'ID': '1028',\n",
              "  'Quant': 2,\n",
              "  'Time': 'Mon Sep  6 15:25:10 2021'}}"
            ]
          },
          "metadata": {},
          "execution_count": 253
        }
      ]
    },
    {
      "cell_type": "code",
      "metadata": {
        "id": "q9vvNZIlvL32"
      },
      "source": [
        "sale=json.dumps(sales)\n",
        "fg=open(\"sales.json\",\"w\")\n",
        "w=fg.write(sale)\n",
        "fg.close()"
      ],
      "execution_count": 256,
      "outputs": []
    },
    {
      "cell_type": "code",
      "metadata": {
        "id": "QTOiZlPavn7D"
      },
      "source": [
        ""
      ],
      "execution_count": null,
      "outputs": []
    }
  ]
}