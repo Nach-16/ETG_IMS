{
  "nbformat": 4,
  "nbformat_minor": 0,
  "metadata": {
    "colab": {
      "name": "Inventory.ipynb",
      "provenance": [],
      "collapsed_sections": []
    },
    "kernelspec": {
      "name": "python3",
      "display_name": "Python 3"
    },
    "language_info": {
      "name": "python"
    }
  },
  "cells": [
    {
      "cell_type": "markdown",
      "metadata": {
        "id": "xmdwUOwymdAP"
      },
      "source": [
        "#Adding Inventory"
      ]
    },
    {
      "cell_type": "code",
      "metadata": {
        "id": "wC-qGQnbQlBZ"
      },
      "source": [
        "from google.colab import drive\n",
        "drive.mount('/content/drive')"
      ],
      "execution_count": null,
      "outputs": []
    },
    {
      "cell_type": "code",
      "metadata": {
        "id": "3HuSLQw3mf1-"
      },
      "source": [
        "reco=open(\"record.json\", \"r\")\n",
        "var=reco.read()\n",
        "reco.close()\n",
        "import json\n",
        "record=json.loads(var)"
      ],
      "execution_count": null,
      "outputs": []
    },
    {
      "cell_type": "code",
      "metadata": {
        "colab": {
          "base_uri": "https://localhost:8080/"
        },
        "id": "RUTVCKPoph1g",
        "outputId": "77afaf92-e745-4a04-96e8-a09922e13874"
      },
      "source": [
        "id=str(input(\"Enter the Product ID: \"))\n",
        "name=str(input(\"Enter the Product Name: \"))\n",
        "price=int(input(\"Enter the Price: \"))\n",
        "quant=int(input(\"Enter the Quantity: \"))\n",
        "mfg=int(input(\"Enter year of MFg: \"))\n",
        "batch=int(input(\"Enter the Batch Number: \"))\n",
        "\n",
        "record[id]= {\"Product\": name, \"Price\": price, \"Quantity\":quant, \"MFG_Year\": mfg, \"Batch_No.\": batch}\n",
        "js=json.dumps(record)\n",
        "reco=open(\"record.json\",\"w\")\n",
        "reco.write(js)\n",
        "reco.close()\n",
        "\n",
        "\n",
        "\n",
        "\n",
        "\n",
        "\n"
      ],
      "execution_count": null,
      "outputs": [
        {
          "name": "stdout",
          "output_type": "stream",
          "text": [
            "Enter the Product ID: 1030\n",
            "Enter the Product Name: Ketchup\n",
            "Enter the Price: 40\n",
            "Enter the Quantity: 50\n",
            "Enter year of MFg: 2019\n",
            "Enter the Batch Number: 57\n"
          ]
        }
      ]
    },
    {
      "cell_type": "code",
      "metadata": {
        "id": "5cawzTt8OuNS"
      },
      "source": [
        ""
      ],
      "execution_count": null,
      "outputs": []
    }
  ]
}